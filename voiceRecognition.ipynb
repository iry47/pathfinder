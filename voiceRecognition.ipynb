{
 "cells": [
  {
   "cell_type": "code",
   "execution_count": 4,
   "metadata": {},
   "outputs": [
    {
     "name": "stdout",
     "output_type": "stream",
     "text": [
      "5\n",
      "end\n",
      "Recording Audio\n",
      "Audio recording complete , Play Audio\n",
      "Play Audio Complete\n"
     ]
    }
   ],
   "source": [
    "import vosk\n",
    "import sounddevice as sd \n",
    "\n",
    "my_list = [1, 2, 3 ,4 ,5 ]\n",
    "\n",
    "for val in  my_list:\n",
    "    pass\n",
    "print(val)\n",
    "print(\"end\")\n",
    "\n",
    "fs=44100\n",
    "\n",
    "duration = 5  # seconds\n",
    "\n",
    "myrecording = sd.rec(duration * fs, samplerate=fs, channels=2,dtype='float64')\n",
    "\n",
    "print(\"Recording Audio\")\n",
    "\n",
    "sd.wait()\n",
    "\n",
    "print(\"Audio recording complete , Play Audio\")\n",
    "\n",
    "sd.play(myrecording, fs)\n",
    "\n",
    "sd.wait()\n",
    "\n",
    "print(\"Play Audio Complete\")"
   ]
  }
 ],
 "metadata": {
  "interpreter": {
   "hash": "0b5b466e2f8b337f05c4260824908071d048b6b35442c139a29760b4deb36dc6"
  },
  "kernelspec": {
   "display_name": "Python 3.9.2 64-bit ('venv': venv)",
   "name": "python3"
  },
  "language_info": {
   "codemirror_mode": {
    "name": "ipython",
    "version": 3
   },
   "file_extension": ".py",
   "mimetype": "text/x-python",
   "name": "python",
   "nbconvert_exporter": "python",
   "pygments_lexer": "ipython3",
   "version": "3.9.2"
  },
  "orig_nbformat": 4
 },
 "nbformat": 4,
 "nbformat_minor": 2
}
