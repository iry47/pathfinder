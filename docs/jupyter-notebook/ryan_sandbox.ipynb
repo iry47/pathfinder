{
 "cells": [
  {
   "cell_type": "code",
   "execution_count": 1,
   "metadata": {},
   "outputs": [
    {
     "name": "stdout",
     "output_type": "stream",
     "text": [
      "3.7.9\n"
     ]
    }
   ],
   "source": [
    "from platform import python_version\n",
    "\n",
    "print(python_version())"
   ]
  },
  {
   "cell_type": "code",
   "execution_count": 1,
   "metadata": {},
   "outputs": [],
   "source": [
    "import sys\n",
    "import os\n",
    "\n",
    "import pandas as pd\n",
    "import numpy as np\n",
    "\n",
    "\n",
    "from nltk import word_tokenize\n",
    "from nltk.corpus import stopwords\n",
    "from langdetect import detect\n",
    "\n",
    "import spacy\n",
    "\n",
    "from sentence_transformers import SentenceTransformer\n",
    "import mpu\n",
    "\n",
    "model = SentenceTransformer('all-MiniLM-L6-v2')\n",
    "nlp = spacy.load(\"fr_core_news_md\")\n"
   ]
  },
  {
   "cell_type": "markdown",
   "metadata": {},
   "source": [
    "# Read Request & Determine Language"
   ]
  },
  {
   "cell_type": "code",
   "execution_count": 3,
   "metadata": {},
   "outputs": [],
   "source": [
    "eng_text = 'Hi, I would like to travel this winter and go skiing. Normally I will go from paris to grenoble to ski at my favorite resort!'\n",
    "fr_text = [\n",
    "    'Bonjour, je m\\'appelle Ryan et j\\'aimerais voyager cet hivers et faire du ski. Normalement je j\\irai à Lucelle depuis Paris pour arriver chez ma station préférée !',\n",
    "    'Bonjour, je m\\'appelle Ryan et j\\'aimerais voyager cet hivers et faire du ski. Normalement je j\\irai à Lucelle depuis Paris pour arriver chez ma station préférée !',\n",
    "    'Bonjour, je m\\'ppelle Ryan et j\\'aimerais Voyager cet Hivers et Faire du Ski. Normalement je j\\irai à lucelle Depuis paris pour Arriver chez ma Station préférée !',\n",
    "    'Bonjour, je m\\'appelle Ryan et j\\'aimerais voyager cet hivers et faire du ski. Normalement je j\\irai à Lyon depuis Marseille pour arriver chez ma station préférée !',\n",
    "    'Bonjour, je m\\'appelle Ryan et j\\'aimerais voyager cet hivers et faire du ski. Normalement je j\\irai à Foix depuis Strasbourg pour arriver chez ma station préférée !'\n",
    "]"
   ]
  },
  {
   "cell_type": "code",
   "execution_count": 4,
   "metadata": {},
   "outputs": [],
   "source": [
    "\"\"\"\n",
    "Detect if text is French\n",
    "\"\"\"\n",
    "def is_french(text):\n",
    "    return 'fr' == detect(text)"
   ]
  },
  {
   "cell_type": "code",
   "execution_count": 5,
   "metadata": {},
   "outputs": [
    {
     "name": "stdout",
     "output_type": "stream",
     "text": [
      "English Text:  False\n",
      "French Text:  True\n"
     ]
    }
   ],
   "source": [
    "print(\"English Text: \", is_french(eng_text))\n",
    "print(\"French Text: \", is_french(fr_text[0]))"
   ]
  },
  {
   "cell_type": "code",
   "execution_count": 6,
   "metadata": {},
   "outputs": [],
   "source": [
    "\"\"\"\n",
    "Detect if text is French\n",
    "\"\"\"\n",
    "def is_french(text):\n",
    "    return 'fr' == detect(text)"
   ]
  },
  {
   "cell_type": "markdown",
   "metadata": {},
   "source": [
    "# Extract Departure and Destination"
   ]
  },
  {
   "cell_type": "code",
   "execution_count": 7,
   "metadata": {},
   "outputs": [
    {
     "name": "stdout",
     "output_type": "stream",
     "text": [
      "PER  |  Ryan 22 26\n",
      "LOC  |  Lucelle 101 108\n",
      "LOC  |  Paris 116 121\n",
      "===========================\n",
      "PER  |  Ryan 22 26\n",
      "LOC  |  Lucelle 101 108\n",
      "LOC  |  Paris 116 121\n",
      "===========================\n",
      "PER  |  Ryan 21 25\n",
      "MISC  |  Voyager cet Hivers 40 58\n",
      "MISC  |  Faire du Ski 62 74\n",
      "MISC  |  Arriver chez ma Station préférée ! 126 160\n",
      "===========================\n",
      "PER  |  Ryan 22 26\n",
      "LOC  |  Lyon 101 105\n",
      "LOC  |  Marseille 113 122\n",
      "===========================\n",
      "PER  |  Ryan 22 26\n",
      "LOC  |  Foix 101 105\n",
      "LOC  |  Strasbourg 113 123\n",
      "===========================\n"
     ]
    }
   ],
   "source": [
    "# must download french package with :\n",
    "# python -m spacy download fr_core_news_sm\n",
    "for text in fr_text:\n",
    "    doc = nlp(text)\n",
    "    for entity in doc.ents:\n",
    "        print(entity.label_, ' | ', entity.text, entity.start_char, entity.end_char)\n",
    "    print(\"===========================\")"
   ]
  },
  {
   "cell_type": "code",
   "execution_count": 8,
   "metadata": {},
   "outputs": [
    {
     "data": {
      "text/plain": [
       "{'departure': ['Paris'], 'destination': ['Lucelle']}"
      ]
     },
     "execution_count": 8,
     "metadata": {},
     "output_type": "execute_result"
    }
   ],
   "source": [
    "words_before_departure = ['de', 'depuis', 'provence']\n",
    "words_before_destination = ['à', 'a', 'en', 'jusqu\\'a']\n",
    "\n",
    "def get_cities(sentence):\n",
    "    \"\"\" Take a sentence and return all cities within\n",
    "\n",
    "    Args:\n",
    "        sentence (str): any sentence\n",
    "\n",
    "    Returns:\n",
    "        Array: A list of cities\n",
    "    \"\"\"\n",
    "    cities = []\n",
    "    doc = nlp(sentence)\n",
    "    for entity in doc.ents:\n",
    "        if entity.label_ == \"LOC\":\n",
    "            cities.append(entity.text)\n",
    "    \n",
    "    return cities\n",
    "\n",
    "def determine_departure_destination(sentence):\n",
    "    \"\"\" Take a travel request sentence and\n",
    "        return the departure and destination\n",
    "\n",
    "    Args:\n",
    "        sentence (str): Travel request sentence\n",
    "\n",
    "    Returns:\n",
    "        dict: departure and destination as keys\n",
    "    \"\"\"\n",
    "    departure = []\n",
    "    destination = []\n",
    "    cities = get_cities(sentence)\n",
    "    words = word_tokenize(sentence)\n",
    "    # print(\"SENTENCE \", sentence)\n",
    "    # print(\"CITIES \", cities)\n",
    "    # print(\"WORDS \", words)\n",
    "    for city in cities:\n",
    "        index = words.index(city)\n",
    "        if index == 0: continue\n",
    "        if words[index-1] in words_before_departure: departure.append(city)\n",
    "        elif words[index-1] in words_before_destination: destination.append(city)\n",
    "    \n",
    "    return {\n",
    "        \"departure\": departure,\n",
    "        \"destination\": destination\n",
    "    }\n",
    "\n",
    "determine_departure_destination(fr_text[0])"
   ]
  },
  {
   "cell_type": "markdown",
   "metadata": {},
   "source": [
    "## GeoLocation"
   ]
  },
  {
   "cell_type": "code",
   "execution_count": 16,
   "metadata": {},
   "outputs": [
    {
     "data": {
      "text/plain": [
       "Location(Paris, Île-de-France, France métropolitaine, France, (48.8588897, 2.3200410217200766, 0.0))"
      ]
     },
     "execution_count": 16,
     "metadata": {},
     "output_type": "execute_result"
    }
   ],
   "source": [
    "from geopy.geocoders import Nominatim\n",
    "geolocator = Nominatim(user_agent=\"travel_request\")\n",
    "location = geolocator.geocode(\"paris\")\n",
    "location"
   ]
  },
  {
   "cell_type": "code",
   "execution_count": 17,
   "metadata": {},
   "outputs": [
    {
     "data": {
      "text/plain": [
       "'Paris, Île-de-France, France métropolitaine, France'"
      ]
     },
     "execution_count": 17,
     "metadata": {},
     "output_type": "execute_result"
    }
   ],
   "source": [
    "location[0]"
   ]
  },
  {
   "cell_type": "markdown",
   "metadata": {},
   "source": [
    "## Sentence Similarity"
   ]
  },
  {
   "cell_type": "code",
   "execution_count": 18,
   "metadata": {},
   "outputs": [],
   "source": [
    "from sklearn.metrics.pairwise import cosine_similarity\n",
    "from sentence_transformers import SentenceTransformer\n",
    "\n",
    "model = SentenceTransformer('all-MiniLM-L6-v2')\n"
   ]
  },
  {
   "cell_type": "code",
   "execution_count": 19,
   "metadata": {},
   "outputs": [],
   "source": [
    "test_sentences = [\n",
    "    'Voyager en train de lille à lyon',\n",
    "    'Les trains sont mieux. J\\'irai de Lille à Lyon',\n",
    "    'A toulon et prendre un bus à marseille',\n",
    "    'A toulon et prendre un avion à marseille',\n",
    "    'A toulon et marcher à marseille',\n",
    "    'Manger des fruits',\n",
    "    'Nager a la plage' ,\n",
    "    'je veux aller du rez de chaussée jusqu\\'au quatrieme etage',\n",
    "    'Je veux prendre un train de paris à lyon'   \n",
    "]\n",
    "fr_text = ['Je veux prendre un train de paris à lyon']\n",
    "\n",
    "test_sentences_embeddings = model.encode(test_sentences)\n",
    "real_sentence_embedding = model.encode(fr_text)"
   ]
  },
  {
   "cell_type": "code",
   "execution_count": 20,
   "metadata": {},
   "outputs": [
    {
     "data": {
      "text/plain": [
       "array([[0.76665556, 0.7919448 , 0.64205396, 0.60242796, 0.49063888,\n",
       "        0.34201646, 0.4183157 , 0.4673643 , 1.        ]], dtype=float32)"
      ]
     },
     "execution_count": 20,
     "metadata": {},
     "output_type": "execute_result"
    }
   ],
   "source": [
    "cosine_similarity(\n",
    "    [real_sentence_embedding[0]],\n",
    "    test_sentences_embeddings[0:]\n",
    ")"
   ]
  },
  {
   "cell_type": "code",
   "execution_count": 22,
   "metadata": {},
   "outputs": [],
   "source": [
    "'''\n",
    "Prendre un paragraph et renvoyer les endroits\n",
    "SI il existe une demande de transport\n",
    "'''\n",
    "def extract_travel_request(sentences):\n",
    "    # model must already be loaded\n",
    "    sentence_embeddings = model.encode(sentences)\n",
    "    similarities = cosine_similarity(\n",
    "        [real_sentence_embedding[0]],\n",
    "        sentence_embeddings\n",
    "    )\n",
    "    biggest_number = max(similarities[0])\n",
    "    if biggest_number < 0.75:\n",
    "        return \"SPAM\"\n",
    "    best_sentence_ind = np.where(similarities[0] == biggest_number)\n",
    "    best_sentence = sentences[best_sentence_ind[0][0]]\n",
    "    \n",
    "    return True\n",
    "    "
   ]
  },
  {
   "cell_type": "code",
   "execution_count": null,
   "metadata": {},
   "outputs": [],
   "source": []
  },
  {
   "cell_type": "markdown",
   "metadata": {},
   "source": [
    "# Epitech Dataset"
   ]
  },
  {
   "cell_type": "code",
   "execution_count": 11,
   "metadata": {},
   "outputs": [],
   "source": [
    "# Get data paths\n",
    "calendar_dates_path = \"../../app/data/data_sncf/calendar_dates.txt\"\n",
    "calendar_path = \"../../app/data/data_sncf/calendar.txt\"\n",
    "routes_path = \"../../app/data/data_sncf/routes.txt\"\n",
    "stop_times_path = \"../../app/data/data_sncf/stop_times.txt\"\n",
    "stops_path = \"../../app/data/data_sncf/stops.txt\"\n",
    "transfers_path = \"../../app/data/data_sncf/transfers.txt\"\n",
    "trips_path = \"../../app/data/data_sncf/trips.txt\"\n",
    "timetable_path = \"../../app/data/data_sncf/timetables.csv\""
   ]
  },
  {
   "cell_type": "code",
   "execution_count": 12,
   "metadata": {},
   "outputs": [],
   "source": [
    "calendar_dates = pd.read_csv(calendar_dates_path)\n",
    "calendar = pd.read_csv(calendar_path)\n",
    "routes = pd.read_csv(routes_path)\n",
    "stop_times = pd.read_csv(stop_times_path)\n",
    "stops = pd.read_csv(stops_path)\n",
    "transfers = pd.read_csv(transfers_path)\n",
    "trips = pd.read_csv(trips_path)\n",
    "timetables = pd.read_table(timetable_path)"
   ]
  },
  {
   "cell_type": "code",
   "execution_count": 50,
   "metadata": {},
   "outputs": [
    {
     "name": "stdout",
     "output_type": "stream",
     "text": [
      "Paris, Île-de-France, France métropolitaine, France\n"
     ]
    },
    {
     "data": {
      "text/html": [
       "<div>\n",
       "<style scoped>\n",
       "    .dataframe tbody tr th:only-of-type {\n",
       "        vertical-align: middle;\n",
       "    }\n",
       "\n",
       "    .dataframe tbody tr th {\n",
       "        vertical-align: top;\n",
       "    }\n",
       "\n",
       "    .dataframe thead th {\n",
       "        text-align: right;\n",
       "    }\n",
       "</style>\n",
       "<table border=\"1\" class=\"dataframe\">\n",
       "  <thead>\n",
       "    <tr style=\"text-align: right;\">\n",
       "      <th></th>\n",
       "      <th>stop_id</th>\n",
       "      <th>stop_name</th>\n",
       "      <th>stop_desc</th>\n",
       "      <th>stop_lat</th>\n",
       "      <th>stop_lon</th>\n",
       "      <th>zone_id</th>\n",
       "      <th>stop_url</th>\n",
       "      <th>location_type</th>\n",
       "      <th>parent_station</th>\n",
       "    </tr>\n",
       "  </thead>\n",
       "  <tbody>\n",
       "    <tr>\n",
       "      <th>0</th>\n",
       "      <td>StopArea:OCE87381509</td>\n",
       "      <td>Gare de Mantes-la-Jolie</td>\n",
       "      <td>NaN</td>\n",
       "      <td>48.989687</td>\n",
       "      <td>1.703294</td>\n",
       "      <td>NaN</td>\n",
       "      <td>NaN</td>\n",
       "      <td>1</td>\n",
       "      <td>NaN</td>\n",
       "    </tr>\n",
       "    <tr>\n",
       "      <th>1</th>\n",
       "      <td>StopArea:OCE87415604</td>\n",
       "      <td>Gare de Vernon-Giverny</td>\n",
       "      <td>NaN</td>\n",
       "      <td>49.091286</td>\n",
       "      <td>1.478363</td>\n",
       "      <td>NaN</td>\n",
       "      <td>NaN</td>\n",
       "      <td>1</td>\n",
       "      <td>NaN</td>\n",
       "    </tr>\n",
       "    <tr>\n",
       "      <th>2</th>\n",
       "      <td>StopArea:OCE87415620</td>\n",
       "      <td>Gare de Gaillon-Aubevoye</td>\n",
       "      <td>NaN</td>\n",
       "      <td>49.174632</td>\n",
       "      <td>1.352518</td>\n",
       "      <td>NaN</td>\n",
       "      <td>NaN</td>\n",
       "      <td>1</td>\n",
       "      <td>NaN</td>\n",
       "    </tr>\n",
       "    <tr>\n",
       "      <th>3</th>\n",
       "      <td>StopArea:OCE87415877</td>\n",
       "      <td>Gare de Val-de-Reuil</td>\n",
       "      <td>NaN</td>\n",
       "      <td>49.275399</td>\n",
       "      <td>1.224609</td>\n",
       "      <td>NaN</td>\n",
       "      <td>NaN</td>\n",
       "      <td>1</td>\n",
       "      <td>NaN</td>\n",
       "    </tr>\n",
       "    <tr>\n",
       "      <th>4</th>\n",
       "      <td>StopArea:OCE87411207</td>\n",
       "      <td>Gare de Oissel</td>\n",
       "      <td>NaN</td>\n",
       "      <td>49.343042</td>\n",
       "      <td>1.101821</td>\n",
       "      <td>NaN</td>\n",
       "      <td>NaN</td>\n",
       "      <td>1</td>\n",
       "      <td>NaN</td>\n",
       "    </tr>\n",
       "    <tr>\n",
       "      <th>...</th>\n",
       "      <td>...</td>\n",
       "      <td>...</td>\n",
       "      <td>...</td>\n",
       "      <td>...</td>\n",
       "      <td>...</td>\n",
       "      <td>...</td>\n",
       "      <td>...</td>\n",
       "      <td>...</td>\n",
       "      <td>...</td>\n",
       "    </tr>\n",
       "    <tr>\n",
       "      <th>9171</th>\n",
       "      <td>StopPoint:OCETrain TER-87718411</td>\n",
       "      <td>Gare de Novillars</td>\n",
       "      <td>NaN</td>\n",
       "      <td>47.283906</td>\n",
       "      <td>6.132791</td>\n",
       "      <td>NaN</td>\n",
       "      <td>NaN</td>\n",
       "      <td>0</td>\n",
       "      <td>StopArea:OCE87718411</td>\n",
       "    </tr>\n",
       "    <tr>\n",
       "      <th>9172</th>\n",
       "      <td>StopPoint:OCETrain TER-87718429</td>\n",
       "      <td>Gare de Deluz</td>\n",
       "      <td>NaN</td>\n",
       "      <td>47.292454</td>\n",
       "      <td>6.199545</td>\n",
       "      <td>NaN</td>\n",
       "      <td>NaN</td>\n",
       "      <td>0</td>\n",
       "      <td>StopArea:OCE87718429</td>\n",
       "    </tr>\n",
       "    <tr>\n",
       "      <th>9173</th>\n",
       "      <td>StopPoint:OCETrain TER-87718437</td>\n",
       "      <td>Gare de Laissey</td>\n",
       "      <td>NaN</td>\n",
       "      <td>47.298881</td>\n",
       "      <td>6.233690</td>\n",
       "      <td>NaN</td>\n",
       "      <td>NaN</td>\n",
       "      <td>0</td>\n",
       "      <td>StopArea:OCE87718437</td>\n",
       "    </tr>\n",
       "    <tr>\n",
       "      <th>9174</th>\n",
       "      <td>StopPoint:OCENavette-87471003</td>\n",
       "      <td>Gare de Rennes</td>\n",
       "      <td>NaN</td>\n",
       "      <td>48.103515</td>\n",
       "      <td>-1.672327</td>\n",
       "      <td>NaN</td>\n",
       "      <td>NaN</td>\n",
       "      <td>0</td>\n",
       "      <td>StopArea:OCE87471003</td>\n",
       "    </tr>\n",
       "    <tr>\n",
       "      <th>9175</th>\n",
       "      <td>StopPoint:OCENavette-87471607</td>\n",
       "      <td>Gare de Fougères</td>\n",
       "      <td>NaN</td>\n",
       "      <td>48.350290</td>\n",
       "      <td>-1.194508</td>\n",
       "      <td>NaN</td>\n",
       "      <td>NaN</td>\n",
       "      <td>0</td>\n",
       "      <td>StopArea:OCE87471607</td>\n",
       "    </tr>\n",
       "  </tbody>\n",
       "</table>\n",
       "<p>9176 rows × 9 columns</p>\n",
       "</div>"
      ],
      "text/plain": [
       "                              stop_id                 stop_name  stop_desc  \\\n",
       "0                StopArea:OCE87381509   Gare de Mantes-la-Jolie        NaN   \n",
       "1                StopArea:OCE87415604    Gare de Vernon-Giverny        NaN   \n",
       "2                StopArea:OCE87415620  Gare de Gaillon-Aubevoye        NaN   \n",
       "3                StopArea:OCE87415877      Gare de Val-de-Reuil        NaN   \n",
       "4                StopArea:OCE87411207            Gare de Oissel        NaN   \n",
       "...                               ...                       ...        ...   \n",
       "9171  StopPoint:OCETrain TER-87718411         Gare de Novillars        NaN   \n",
       "9172  StopPoint:OCETrain TER-87718429             Gare de Deluz        NaN   \n",
       "9173  StopPoint:OCETrain TER-87718437           Gare de Laissey        NaN   \n",
       "9174    StopPoint:OCENavette-87471003            Gare de Rennes        NaN   \n",
       "9175    StopPoint:OCENavette-87471607          Gare de Fougères        NaN   \n",
       "\n",
       "       stop_lat  stop_lon  zone_id  stop_url  location_type  \\\n",
       "0     48.989687  1.703294      NaN       NaN              1   \n",
       "1     49.091286  1.478363      NaN       NaN              1   \n",
       "2     49.174632  1.352518      NaN       NaN              1   \n",
       "3     49.275399  1.224609      NaN       NaN              1   \n",
       "4     49.343042  1.101821      NaN       NaN              1   \n",
       "...         ...       ...      ...       ...            ...   \n",
       "9171  47.283906  6.132791      NaN       NaN              0   \n",
       "9172  47.292454  6.199545      NaN       NaN              0   \n",
       "9173  47.298881  6.233690      NaN       NaN              0   \n",
       "9174  48.103515 -1.672327      NaN       NaN              0   \n",
       "9175  48.350290 -1.194508      NaN       NaN              0   \n",
       "\n",
       "            parent_station  \n",
       "0                      NaN  \n",
       "1                      NaN  \n",
       "2                      NaN  \n",
       "3                      NaN  \n",
       "4                      NaN  \n",
       "...                    ...  \n",
       "9171  StopArea:OCE87718411  \n",
       "9172  StopArea:OCE87718429  \n",
       "9173  StopArea:OCE87718437  \n",
       "9174  StopArea:OCE87471003  \n",
       "9175  StopArea:OCE87471607  \n",
       "\n",
       "[9176 rows x 9 columns]"
      ]
     },
     "execution_count": 50,
     "metadata": {},
     "output_type": "execute_result"
    }
   ],
   "source": [
    "def get_geolocation(city):\n",
    "    \"\"\"Get the geolocation of a city\n",
    "\n",
    "    Args:\n",
    "        city (str): name of a city\n",
    "\n",
    "    Returns:\n",
    "        Array<geopy.location.Location>: Name, region, department, country, [lat, long, other]\n",
    "    \"\"\"\n",
    "    geolocator = Nominatim(user_agent=\"travel_request\")\n",
    "    location = geolocator.geocode(city)\n",
    "    return location\n",
    "\n",
    "location = get_geolocation('paris')\n",
    "stops"
   ]
  },
  {
   "cell_type": "code",
   "execution_count": 55,
   "metadata": {},
   "outputs": [
    {
     "name": "stdout",
     "output_type": "stream",
     "text": [
      "Paris, Île-de-France, France métropolitaine, France\n",
      "Lyon, Métropole de Lyon, Circonscription départementale du Rhône, Auvergne-Rhône-Alpes, France métropolitaine, France\n"
     ]
    }
   ],
   "source": [
    "import mpu\n",
    "\n",
    "def get_geo_distance(lat1, lon1, lat2, lon2):\n",
    "    \"\"\"Calculate the distance between to geographical points\n",
    "\n",
    "    Args:\n",
    "        lat_1 (float): first latitude\n",
    "        long_1 (float): first longitude\n",
    "        lat_2 (float): second latitude\n",
    "        long_2 (float): second longitude\n",
    "    \"\"\"\n",
    "    return mpu.haversine_distance((lat1, lon1), (lat2, lon2))\n",
    "\n",
    "\n",
    "stops = pd.read_csv(stops_path)\n",
    "geo_departure = get_geolocation('paris')\n",
    "geo_destination = get_geolocation('lyon')\n",
    "\n",
    "departure = {\n",
    "    \"current_lat\": geo_departure.latitude,\n",
    "    \"current_lon\": geo_departure.longitude,\n",
    "    \"stop\": \"\", \n",
    "    \"distance\": 99999\n",
    "}\n",
    "destination = {\n",
    "    \"current_lat\": geo_destination.latitude,\n",
    "    \"current_lon\": geo_destination.longitude,\n",
    "    \"stop\": \"\", \n",
    "    \"distance\": 99999\n",
    "}\n",
    "for index, row in stops.iterrows():\n",
    "    distance_to_departure = get_geo_distance(\n",
    "        departure[\"current_lat\"],\n",
    "        departure[\"current_lon\"],\n",
    "        row.stop_lat,\n",
    "        row.stop_lon\n",
    "    )\n",
    "\n",
    "    if distance_to_departure < departure[\"distance\"]:\n",
    "        departure[\"stop\"] = row.stop_name\n",
    "        \n",
    "    distance_to_destination = get_geo_distance(\n",
    "        destination[\"current_lat\"],\n",
    "        destination[\"current_lon\"],\n",
    "        row.stop_lat,\n",
    "        row.stop_lon\n",
    "    )\n",
    "    if distance_to_destination < destination[\"distance\"]:\n",
    "        destination[\"stop\"] = row.stop_name\n",
    "        \n",
    "\n",
    "   "
   ]
  },
  {
   "cell_type": "code",
   "execution_count": 62,
   "metadata": {},
   "outputs": [
    {
     "name": "stdout",
     "output_type": "stream",
     "text": [
      "23:05:00\n",
      "23:35:00\n",
      "23:55:00\n",
      "24:25:00\n",
      "24:45:00\n",
      "25:10:00\n"
     ]
    }
   ],
   "source": [
    "selected = stop_times.loc[stop_times['trip_id'] == 'OCESN037071R0100119847']\n",
    "for trip_tmp in selected.iterrows():\n",
    "    print(trip_tmp[1].arrival_time)"
   ]
  },
  {
   "cell_type": "markdown",
   "metadata": {},
   "source": [
    "## Table Types"
   ]
  },
  {
   "cell_type": "markdown",
   "metadata": {},
   "source": [
    "### Calendar Dates"
   ]
  },
  {
   "cell_type": "code",
   "execution_count": 25,
   "metadata": {},
   "outputs": [
    {
     "data": {
      "text/plain": [
       "service_id        int64\n",
       "date              int64\n",
       "exception_type    int64\n",
       "dtype: object"
      ]
     },
     "execution_count": 25,
     "metadata": {},
     "output_type": "execute_result"
    }
   ],
   "source": [
    "calendar_dates.dtypes\n",
    "# dates -> DATE"
   ]
  },
  {
   "cell_type": "markdown",
   "metadata": {},
   "source": [
    "### Calendar"
   ]
  },
  {
   "cell_type": "code",
   "execution_count": 26,
   "metadata": {},
   "outputs": [
    {
     "data": {
      "text/plain": [
       "service_id    int64\n",
       "monday        int64\n",
       "tuesday       int64\n",
       "wednesday     int64\n",
       "thursday      int64\n",
       "friday        int64\n",
       "saturday      int64\n",
       "sunday        int64\n",
       "start_date    int64\n",
       "end_date      int64\n",
       "dtype: object"
      ]
     },
     "execution_count": 26,
     "metadata": {},
     "output_type": "execute_result"
    }
   ],
   "source": [
    "calendar.dtypes\n",
    "# start_date, end_date -> DATE"
   ]
  },
  {
   "cell_type": "markdown",
   "metadata": {},
   "source": [
    "### Routes"
   ]
  },
  {
   "cell_type": "code",
   "execution_count": 27,
   "metadata": {},
   "outputs": [
    {
     "data": {
      "text/plain": [
       "route_id             object\n",
       "agency_id            object\n",
       "route_short_name    float64\n",
       "route_long_name      object\n",
       "route_desc          float64\n",
       "route_type            int64\n",
       "route_url           float64\n",
       "route_color         float64\n",
       "route_text_color    float64\n",
       "dtype: object"
      ]
     },
     "execution_count": 27,
     "metadata": {},
     "output_type": "execute_result"
    }
   ],
   "source": [
    "routes.dtypes\n",
    "# all floats are by default but should be string"
   ]
  },
  {
   "cell_type": "markdown",
   "metadata": {},
   "source": [
    "### Trips"
   ]
  },
  {
   "cell_type": "code",
   "execution_count": 28,
   "metadata": {},
   "outputs": [
    {
     "data": {
      "text/plain": [
       "route_id          object\n",
       "service_id         int64\n",
       "trip_id           object\n",
       "trip_headsign      int64\n",
       "direction_id       int64\n",
       "block_id         float64\n",
       "shape_id         float64\n",
       "dtype: object"
      ]
     },
     "execution_count": 28,
     "metadata": {},
     "output_type": "execute_result"
    }
   ],
   "source": [
    "trips.dtypes"
   ]
  },
  {
   "cell_type": "markdown",
   "metadata": {},
   "source": [
    "### Stop Times"
   ]
  },
  {
   "cell_type": "code",
   "execution_count": 29,
   "metadata": {},
   "outputs": [
    {
     "data": {
      "text/plain": [
       "trip_id                 object\n",
       "arrival_time            object\n",
       "departure_time          object\n",
       "stop_id                 object\n",
       "stop_sequence            int64\n",
       "stop_headsign          float64\n",
       "pickup_type              int64\n",
       "drop_off_type            int64\n",
       "shape_dist_traveled    float64\n",
       "dtype: object"
      ]
     },
     "execution_count": 29,
     "metadata": {},
     "output_type": "execute_result"
    }
   ],
   "source": [
    "stop_times.dtypes\n",
    "# arrival_time, departure_time -> TIME\n",
    "# shape_dist_traveled ?"
   ]
  },
  {
   "cell_type": "markdown",
   "metadata": {},
   "source": [
    "### Stops"
   ]
  },
  {
   "cell_type": "code",
   "execution_count": 30,
   "metadata": {},
   "outputs": [
    {
     "data": {
      "text/plain": [
       "stop_id            object\n",
       "stop_name          object\n",
       "stop_desc         float64\n",
       "stop_lat          float64\n",
       "stop_lon          float64\n",
       "zone_id           float64\n",
       "stop_url          float64\n",
       "location_type       int64\n",
       "parent_station     object\n",
       "dtype: object"
      ]
     },
     "execution_count": 30,
     "metadata": {},
     "output_type": "execute_result"
    }
   ],
   "source": [
    "stops.dtypes\n",
    "# zone_id, stop_url, stop_desc are NULL"
   ]
  },
  {
   "cell_type": "markdown",
   "metadata": {},
   "source": [
    "### Transfers"
   ]
  },
  {
   "cell_type": "code",
   "execution_count": 31,
   "metadata": {},
   "outputs": [
    {
     "data": {
      "text/plain": [
       "from_stop_id         object\n",
       "to_stop_id           object\n",
       "transfer_type        object\n",
       "min_transfer_time    object\n",
       "dtype: object"
      ]
     },
     "execution_count": 31,
     "metadata": {},
     "output_type": "execute_result"
    }
   ],
   "source": [
    "transfers.dtypes"
   ]
  },
  {
   "cell_type": "markdown",
   "metadata": {},
   "source": [
    "### Timetables"
   ]
  },
  {
   "cell_type": "code",
   "execution_count": 32,
   "metadata": {},
   "outputs": [
    {
     "data": {
      "text/plain": [
       "trip_id    object\n",
       "trajet     object\n",
       "duree       int64\n",
       "dtype: object"
      ]
     },
     "execution_count": 32,
     "metadata": {},
     "output_type": "execute_result"
    }
   ],
   "source": [
    "timetables.dtypes"
   ]
  },
  {
   "cell_type": "markdown",
   "metadata": {},
   "source": [
    "## Table Length"
   ]
  },
  {
   "cell_type": "code",
   "execution_count": 33,
   "metadata": {},
   "outputs": [
    {
     "data": {
      "text/plain": [
       "(1575, 3)"
      ]
     },
     "execution_count": 33,
     "metadata": {},
     "output_type": "execute_result"
    }
   ],
   "source": [
    "# print(len(timetables[\"trip_id\"].unique()))\n",
    "timetables.shape"
   ]
  },
  {
   "cell_type": "code",
   "execution_count": 34,
   "metadata": {},
   "outputs": [
    {
     "data": {
      "text/plain": [
       "(24111, 7)"
      ]
     },
     "execution_count": 34,
     "metadata": {},
     "output_type": "execute_result"
    }
   ],
   "source": [
    "trips.shape"
   ]
  },
  {
   "cell_type": "code",
   "execution_count": 35,
   "metadata": {},
   "outputs": [
    {
     "data": {
      "text/plain": [
       "(9176, 9)"
      ]
     },
     "execution_count": 35,
     "metadata": {},
     "output_type": "execute_result"
    }
   ],
   "source": [
    "# print(stops.iloc[0])\n",
    "stops.shape"
   ]
  },
  {
   "cell_type": "code",
   "execution_count": 36,
   "metadata": {},
   "outputs": [
    {
     "data": {
      "text/plain": [
       "(38160, 3)"
      ]
     },
     "execution_count": 36,
     "metadata": {},
     "output_type": "execute_result"
    }
   ],
   "source": [
    "calendar_dates.shape"
   ]
  },
  {
   "cell_type": "code",
   "execution_count": 37,
   "metadata": {},
   "outputs": [
    {
     "data": {
      "text/plain": [
       "(5015, 10)"
      ]
     },
     "execution_count": 37,
     "metadata": {},
     "output_type": "execute_result"
    }
   ],
   "source": [
    "calendar.shape"
   ]
  },
  {
   "cell_type": "markdown",
   "metadata": {},
   "source": [
    "## Get closest station"
   ]
  },
  {
   "cell_type": "code",
   "execution_count": 38,
   "metadata": {},
   "outputs": [],
   "source": [
    "def get_distance(lat1, lon1, lat2, lon2):\n",
    "    \"\"\"Calculate the distance between to geographical points\n",
    "\n",
    "    Args:\n",
    "        lat_1 (float): first latitude\n",
    "        long_1 (float): first longitude\n",
    "        lat_2 (float): second latitude\n",
    "        long_2 (float): second longitude\n",
    "    \"\"\"\n",
    "    return mpu.haversine_distance((lat1, lon1), (lat2, lon2))"
   ]
  },
  {
   "cell_type": "markdown",
   "metadata": {},
   "source": [
    "## Get routes from station"
   ]
  },
  {
   "cell_type": "code",
   "execution_count": 39,
   "metadata": {},
   "outputs": [
    {
     "data": {
      "text/html": [
       "<div>\n",
       "<style scoped>\n",
       "    .dataframe tbody tr th:only-of-type {\n",
       "        vertical-align: middle;\n",
       "    }\n",
       "\n",
       "    .dataframe tbody tr th {\n",
       "        vertical-align: top;\n",
       "    }\n",
       "\n",
       "    .dataframe thead th {\n",
       "        text-align: right;\n",
       "    }\n",
       "</style>\n",
       "<table border=\"1\" class=\"dataframe\">\n",
       "  <thead>\n",
       "    <tr style=\"text-align: right;\">\n",
       "      <th></th>\n",
       "      <th>route_id</th>\n",
       "      <th>agency_id</th>\n",
       "      <th>route_short_name</th>\n",
       "      <th>route_long_name</th>\n",
       "      <th>route_desc</th>\n",
       "      <th>route_type</th>\n",
       "      <th>route_url</th>\n",
       "      <th>route_color</th>\n",
       "      <th>route_text_color</th>\n",
       "    </tr>\n",
       "  </thead>\n",
       "  <tbody>\n",
       "    <tr>\n",
       "      <th>0</th>\n",
       "      <td>OCE1506035</td>\n",
       "      <td>OCESN</td>\n",
       "      <td>NaN</td>\n",
       "      <td>Paris-Vernon-Rouen-Le Havre</td>\n",
       "      <td>NaN</td>\n",
       "      <td>2</td>\n",
       "      <td>NaN</td>\n",
       "      <td>NaN</td>\n",
       "      <td>NaN</td>\n",
       "    </tr>\n",
       "    <tr>\n",
       "      <th>172</th>\n",
       "      <td>OCE1526128</td>\n",
       "      <td>OCESN</td>\n",
       "      <td>NaN</td>\n",
       "      <td>Paris Caen</td>\n",
       "      <td>NaN</td>\n",
       "      <td>2</td>\n",
       "      <td>NaN</td>\n",
       "      <td>NaN</td>\n",
       "      <td>NaN</td>\n",
       "    </tr>\n",
       "  </tbody>\n",
       "</table>\n",
       "</div>"
      ],
      "text/plain": [
       "       route_id agency_id  route_short_name              route_long_name  \\\n",
       "0    OCE1506035     OCESN               NaN  Paris-Vernon-Rouen-Le Havre   \n",
       "172  OCE1526128     OCESN               NaN                   Paris Caen   \n",
       "\n",
       "     route_desc  route_type  route_url  route_color  route_text_color  \n",
       "0           NaN           2        NaN          NaN               NaN  \n",
       "172         NaN           2        NaN          NaN               NaN  "
      ]
     },
     "execution_count": 39,
     "metadata": {},
     "output_type": "execute_result"
    }
   ],
   "source": [
    "def get_routes(stop_id):\n",
    "    \"\"\"Get all routes passing through the station \n",
    "\n",
    "    Args:\n",
    "        stop_id (str): train station id in stops table\n",
    "    \"\"\"\n",
    "    try:\n",
    "        # sometimes stop_id are not in the stop_times\n",
    "        stop_times_with_stop = stop_times[stop_times.stop_id == stop_id]\n",
    "    except Exception as e:\n",
    "        return e.message\n",
    "    trips_with_stop_times = trips[trips.trip_id.isin(stop_times_with_stop.trip_id)]\n",
    "    routes_with_trips = routes[routes.route_id.isin(trips_with_stop_times.route_id)]\n",
    "    # print(routes_with_trips)\n",
    "    \n",
    "    return routes_with_trips\n",
    "    \n",
    "# get_routes(\"StopArea:OCE87381509\")  NE MARCHE PAS  \n",
    "get_routes(\"StopPoint:OCECar TER-87381509\")"
   ]
  },
  {
   "cell_type": "markdown",
   "metadata": {},
   "source": [
    "## Get stations in route"
   ]
  },
  {
   "cell_type": "code",
   "execution_count": 40,
   "metadata": {},
   "outputs": [
    {
     "data": {
      "text/html": [
       "<div>\n",
       "<style scoped>\n",
       "    .dataframe tbody tr th:only-of-type {\n",
       "        vertical-align: middle;\n",
       "    }\n",
       "\n",
       "    .dataframe tbody tr th {\n",
       "        vertical-align: top;\n",
       "    }\n",
       "\n",
       "    .dataframe thead th {\n",
       "        text-align: right;\n",
       "    }\n",
       "</style>\n",
       "<table border=\"1\" class=\"dataframe\">\n",
       "  <thead>\n",
       "    <tr style=\"text-align: right;\">\n",
       "      <th></th>\n",
       "      <th>stop_id</th>\n",
       "      <th>stop_name</th>\n",
       "      <th>stop_desc</th>\n",
       "      <th>stop_lat</th>\n",
       "      <th>stop_lon</th>\n",
       "      <th>zone_id</th>\n",
       "      <th>stop_url</th>\n",
       "      <th>location_type</th>\n",
       "      <th>parent_station</th>\n",
       "    </tr>\n",
       "  </thead>\n",
       "  <tbody>\n",
       "    <tr>\n",
       "      <th>3836</th>\n",
       "      <td>StopPoint:OCECar TER-87381509</td>\n",
       "      <td>Gare de Mantes-la-Jolie</td>\n",
       "      <td>NaN</td>\n",
       "      <td>48.989687</td>\n",
       "      <td>1.703294</td>\n",
       "      <td>NaN</td>\n",
       "      <td>NaN</td>\n",
       "      <td>0</td>\n",
       "      <td>StopArea:OCE87381509</td>\n",
       "    </tr>\n",
       "    <tr>\n",
       "      <th>3837</th>\n",
       "      <td>StopPoint:OCECar TER-87415604</td>\n",
       "      <td>Gare de Vernon-Giverny</td>\n",
       "      <td>NaN</td>\n",
       "      <td>49.091286</td>\n",
       "      <td>1.478363</td>\n",
       "      <td>NaN</td>\n",
       "      <td>NaN</td>\n",
       "      <td>0</td>\n",
       "      <td>StopArea:OCE87415604</td>\n",
       "    </tr>\n",
       "    <tr>\n",
       "      <th>3838</th>\n",
       "      <td>StopPoint:OCECar TER-87415620</td>\n",
       "      <td>Gare de Gaillon-Aubevoye</td>\n",
       "      <td>NaN</td>\n",
       "      <td>49.174632</td>\n",
       "      <td>1.352518</td>\n",
       "      <td>NaN</td>\n",
       "      <td>NaN</td>\n",
       "      <td>0</td>\n",
       "      <td>StopArea:OCE87415620</td>\n",
       "    </tr>\n",
       "    <tr>\n",
       "      <th>3839</th>\n",
       "      <td>StopPoint:OCECar TER-87415877</td>\n",
       "      <td>Gare de Val-de-Reuil</td>\n",
       "      <td>NaN</td>\n",
       "      <td>49.275399</td>\n",
       "      <td>1.224609</td>\n",
       "      <td>NaN</td>\n",
       "      <td>NaN</td>\n",
       "      <td>0</td>\n",
       "      <td>StopArea:OCE87415877</td>\n",
       "    </tr>\n",
       "    <tr>\n",
       "      <th>3840</th>\n",
       "      <td>StopPoint:OCECar TER-87411207</td>\n",
       "      <td>Gare de Oissel</td>\n",
       "      <td>NaN</td>\n",
       "      <td>49.343042</td>\n",
       "      <td>1.101821</td>\n",
       "      <td>NaN</td>\n",
       "      <td>NaN</td>\n",
       "      <td>0</td>\n",
       "      <td>StopArea:OCE87411207</td>\n",
       "    </tr>\n",
       "    <tr>\n",
       "      <th>3841</th>\n",
       "      <td>StopPoint:OCECar TER-87411017</td>\n",
       "      <td>Gare de Rouen-Rive-Droite</td>\n",
       "      <td>NaN</td>\n",
       "      <td>49.449030</td>\n",
       "      <td>1.094154</td>\n",
       "      <td>NaN</td>\n",
       "      <td>NaN</td>\n",
       "      <td>0</td>\n",
       "      <td>StopArea:OCE87411017</td>\n",
       "    </tr>\n",
       "    <tr>\n",
       "      <th>3842</th>\n",
       "      <td>StopPoint:OCETrain TER-87384008</td>\n",
       "      <td>Gare de Paris-St-Lazare</td>\n",
       "      <td>NaN</td>\n",
       "      <td>48.877865</td>\n",
       "      <td>2.324433</td>\n",
       "      <td>NaN</td>\n",
       "      <td>NaN</td>\n",
       "      <td>0</td>\n",
       "      <td>StopArea:OCE87384008</td>\n",
       "    </tr>\n",
       "    <tr>\n",
       "      <th>3843</th>\n",
       "      <td>StopPoint:OCETrain TER-87411017</td>\n",
       "      <td>Gare de Rouen-Rive-Droite</td>\n",
       "      <td>NaN</td>\n",
       "      <td>49.449030</td>\n",
       "      <td>1.094154</td>\n",
       "      <td>NaN</td>\n",
       "      <td>NaN</td>\n",
       "      <td>0</td>\n",
       "      <td>StopArea:OCE87411017</td>\n",
       "    </tr>\n",
       "    <tr>\n",
       "      <th>3844</th>\n",
       "      <td>StopPoint:OCETrain TER-87411801</td>\n",
       "      <td>Gare de Montville</td>\n",
       "      <td>NaN</td>\n",
       "      <td>49.551033</td>\n",
       "      <td>1.069749</td>\n",
       "      <td>NaN</td>\n",
       "      <td>NaN</td>\n",
       "      <td>0</td>\n",
       "      <td>StopArea:OCE87411801</td>\n",
       "    </tr>\n",
       "    <tr>\n",
       "      <th>3845</th>\n",
       "      <td>StopPoint:OCETrain TER-87411819</td>\n",
       "      <td>Gare de Clères</td>\n",
       "      <td>NaN</td>\n",
       "      <td>49.599080</td>\n",
       "      <td>1.106174</td>\n",
       "      <td>NaN</td>\n",
       "      <td>NaN</td>\n",
       "      <td>0</td>\n",
       "      <td>StopArea:OCE87411819</td>\n",
       "    </tr>\n",
       "    <tr>\n",
       "      <th>3846</th>\n",
       "      <td>StopPoint:OCETrain TER-87415158</td>\n",
       "      <td>Gare de Auffay</td>\n",
       "      <td>NaN</td>\n",
       "      <td>49.716088</td>\n",
       "      <td>1.098417</td>\n",
       "      <td>NaN</td>\n",
       "      <td>NaN</td>\n",
       "      <td>0</td>\n",
       "      <td>StopArea:OCE87415158</td>\n",
       "    </tr>\n",
       "    <tr>\n",
       "      <th>3847</th>\n",
       "      <td>StopPoint:OCETrain TER-87415018</td>\n",
       "      <td>Gare de Dieppe</td>\n",
       "      <td>NaN</td>\n",
       "      <td>49.921243</td>\n",
       "      <td>1.081128</td>\n",
       "      <td>NaN</td>\n",
       "      <td>NaN</td>\n",
       "      <td>0</td>\n",
       "      <td>StopArea:OCE87415018</td>\n",
       "    </tr>\n",
       "    <tr>\n",
       "      <th>3848</th>\n",
       "      <td>StopPoint:OCETrain TER-87415604</td>\n",
       "      <td>Gare de Vernon-Giverny</td>\n",
       "      <td>NaN</td>\n",
       "      <td>49.091286</td>\n",
       "      <td>1.478363</td>\n",
       "      <td>NaN</td>\n",
       "      <td>NaN</td>\n",
       "      <td>0</td>\n",
       "      <td>StopArea:OCE87415604</td>\n",
       "    </tr>\n",
       "    <tr>\n",
       "      <th>3849</th>\n",
       "      <td>StopPoint:OCETrain TER-87415620</td>\n",
       "      <td>Gare de Gaillon-Aubevoye</td>\n",
       "      <td>NaN</td>\n",
       "      <td>49.174632</td>\n",
       "      <td>1.352518</td>\n",
       "      <td>NaN</td>\n",
       "      <td>NaN</td>\n",
       "      <td>0</td>\n",
       "      <td>StopArea:OCE87415620</td>\n",
       "    </tr>\n",
       "    <tr>\n",
       "      <th>3850</th>\n",
       "      <td>StopPoint:OCETrain TER-87415877</td>\n",
       "      <td>Gare de Val-de-Reuil</td>\n",
       "      <td>NaN</td>\n",
       "      <td>49.275399</td>\n",
       "      <td>1.224609</td>\n",
       "      <td>NaN</td>\n",
       "      <td>NaN</td>\n",
       "      <td>0</td>\n",
       "      <td>StopArea:OCE87415877</td>\n",
       "    </tr>\n",
       "    <tr>\n",
       "      <th>3851</th>\n",
       "      <td>StopPoint:OCETrain TER-87411207</td>\n",
       "      <td>Gare de Oissel</td>\n",
       "      <td>NaN</td>\n",
       "      <td>49.343042</td>\n",
       "      <td>1.101821</td>\n",
       "      <td>NaN</td>\n",
       "      <td>NaN</td>\n",
       "      <td>0</td>\n",
       "      <td>StopArea:OCE87411207</td>\n",
       "    </tr>\n",
       "    <tr>\n",
       "      <th>3852</th>\n",
       "      <td>StopPoint:OCETrain TER-87413385</td>\n",
       "      <td>Gare de Yvetot</td>\n",
       "      <td>NaN</td>\n",
       "      <td>49.622113</td>\n",
       "      <td>0.750072</td>\n",
       "      <td>NaN</td>\n",
       "      <td>NaN</td>\n",
       "      <td>0</td>\n",
       "      <td>StopArea:OCE87413385</td>\n",
       "    </tr>\n",
       "    <tr>\n",
       "      <th>3853</th>\n",
       "      <td>StopPoint:OCETrain TER-87413344</td>\n",
       "      <td>Gare de Bréauté-Beuzeville</td>\n",
       "      <td>NaN</td>\n",
       "      <td>49.603595</td>\n",
       "      <td>0.417162</td>\n",
       "      <td>NaN</td>\n",
       "      <td>NaN</td>\n",
       "      <td>0</td>\n",
       "      <td>StopArea:OCE87413344</td>\n",
       "    </tr>\n",
       "    <tr>\n",
       "      <th>3854</th>\n",
       "      <td>StopPoint:OCETrain TER-87413013</td>\n",
       "      <td>Gare de Le Havre</td>\n",
       "      <td>NaN</td>\n",
       "      <td>49.492653</td>\n",
       "      <td>0.124835</td>\n",
       "      <td>NaN</td>\n",
       "      <td>NaN</td>\n",
       "      <td>0</td>\n",
       "      <td>StopArea:OCE87413013</td>\n",
       "    </tr>\n",
       "    <tr>\n",
       "      <th>3855</th>\n",
       "      <td>StopPoint:OCETrain TER-87381509</td>\n",
       "      <td>Gare de Mantes-la-Jolie</td>\n",
       "      <td>NaN</td>\n",
       "      <td>48.989687</td>\n",
       "      <td>1.703294</td>\n",
       "      <td>NaN</td>\n",
       "      <td>NaN</td>\n",
       "      <td>0</td>\n",
       "      <td>StopArea:OCE87381509</td>\n",
       "    </tr>\n",
       "    <tr>\n",
       "      <th>3856</th>\n",
       "      <td>StopPoint:OCETrain TER-87415661</td>\n",
       "      <td>Gare de Pont-de-l'Arche</td>\n",
       "      <td>NaN</td>\n",
       "      <td>49.317063</td>\n",
       "      <td>1.159675</td>\n",
       "      <td>NaN</td>\n",
       "      <td>NaN</td>\n",
       "      <td>0</td>\n",
       "      <td>StopArea:OCE87415661</td>\n",
       "    </tr>\n",
       "  </tbody>\n",
       "</table>\n",
       "</div>"
      ],
      "text/plain": [
       "                              stop_id                   stop_name  stop_desc  \\\n",
       "3836    StopPoint:OCECar TER-87381509     Gare de Mantes-la-Jolie        NaN   \n",
       "3837    StopPoint:OCECar TER-87415604      Gare de Vernon-Giverny        NaN   \n",
       "3838    StopPoint:OCECar TER-87415620    Gare de Gaillon-Aubevoye        NaN   \n",
       "3839    StopPoint:OCECar TER-87415877        Gare de Val-de-Reuil        NaN   \n",
       "3840    StopPoint:OCECar TER-87411207              Gare de Oissel        NaN   \n",
       "3841    StopPoint:OCECar TER-87411017   Gare de Rouen-Rive-Droite        NaN   \n",
       "3842  StopPoint:OCETrain TER-87384008     Gare de Paris-St-Lazare        NaN   \n",
       "3843  StopPoint:OCETrain TER-87411017   Gare de Rouen-Rive-Droite        NaN   \n",
       "3844  StopPoint:OCETrain TER-87411801           Gare de Montville        NaN   \n",
       "3845  StopPoint:OCETrain TER-87411819              Gare de Clères        NaN   \n",
       "3846  StopPoint:OCETrain TER-87415158              Gare de Auffay        NaN   \n",
       "3847  StopPoint:OCETrain TER-87415018              Gare de Dieppe        NaN   \n",
       "3848  StopPoint:OCETrain TER-87415604      Gare de Vernon-Giverny        NaN   \n",
       "3849  StopPoint:OCETrain TER-87415620    Gare de Gaillon-Aubevoye        NaN   \n",
       "3850  StopPoint:OCETrain TER-87415877        Gare de Val-de-Reuil        NaN   \n",
       "3851  StopPoint:OCETrain TER-87411207              Gare de Oissel        NaN   \n",
       "3852  StopPoint:OCETrain TER-87413385              Gare de Yvetot        NaN   \n",
       "3853  StopPoint:OCETrain TER-87413344  Gare de Bréauté-Beuzeville        NaN   \n",
       "3854  StopPoint:OCETrain TER-87413013            Gare de Le Havre        NaN   \n",
       "3855  StopPoint:OCETrain TER-87381509     Gare de Mantes-la-Jolie        NaN   \n",
       "3856  StopPoint:OCETrain TER-87415661     Gare de Pont-de-l'Arche        NaN   \n",
       "\n",
       "       stop_lat  stop_lon  zone_id  stop_url  location_type  \\\n",
       "3836  48.989687  1.703294      NaN       NaN              0   \n",
       "3837  49.091286  1.478363      NaN       NaN              0   \n",
       "3838  49.174632  1.352518      NaN       NaN              0   \n",
       "3839  49.275399  1.224609      NaN       NaN              0   \n",
       "3840  49.343042  1.101821      NaN       NaN              0   \n",
       "3841  49.449030  1.094154      NaN       NaN              0   \n",
       "3842  48.877865  2.324433      NaN       NaN              0   \n",
       "3843  49.449030  1.094154      NaN       NaN              0   \n",
       "3844  49.551033  1.069749      NaN       NaN              0   \n",
       "3845  49.599080  1.106174      NaN       NaN              0   \n",
       "3846  49.716088  1.098417      NaN       NaN              0   \n",
       "3847  49.921243  1.081128      NaN       NaN              0   \n",
       "3848  49.091286  1.478363      NaN       NaN              0   \n",
       "3849  49.174632  1.352518      NaN       NaN              0   \n",
       "3850  49.275399  1.224609      NaN       NaN              0   \n",
       "3851  49.343042  1.101821      NaN       NaN              0   \n",
       "3852  49.622113  0.750072      NaN       NaN              0   \n",
       "3853  49.603595  0.417162      NaN       NaN              0   \n",
       "3854  49.492653  0.124835      NaN       NaN              0   \n",
       "3855  48.989687  1.703294      NaN       NaN              0   \n",
       "3856  49.317063  1.159675      NaN       NaN              0   \n",
       "\n",
       "            parent_station  \n",
       "3836  StopArea:OCE87381509  \n",
       "3837  StopArea:OCE87415604  \n",
       "3838  StopArea:OCE87415620  \n",
       "3839  StopArea:OCE87415877  \n",
       "3840  StopArea:OCE87411207  \n",
       "3841  StopArea:OCE87411017  \n",
       "3842  StopArea:OCE87384008  \n",
       "3843  StopArea:OCE87411017  \n",
       "3844  StopArea:OCE87411801  \n",
       "3845  StopArea:OCE87411819  \n",
       "3846  StopArea:OCE87415158  \n",
       "3847  StopArea:OCE87415018  \n",
       "3848  StopArea:OCE87415604  \n",
       "3849  StopArea:OCE87415620  \n",
       "3850  StopArea:OCE87415877  \n",
       "3851  StopArea:OCE87411207  \n",
       "3852  StopArea:OCE87413385  \n",
       "3853  StopArea:OCE87413344  \n",
       "3854  StopArea:OCE87413013  \n",
       "3855  StopArea:OCE87381509  \n",
       "3856  StopArea:OCE87415661  "
      ]
     },
     "execution_count": 40,
     "metadata": {},
     "output_type": "execute_result"
    }
   ],
   "source": [
    "def get_stations(route_id):\n",
    "    \"\"\"Get all station in a route\n",
    "\n",
    "    Args:\n",
    "        route_id (str): route id in routes tables\n",
    "    \"\"\"\n",
    "    trips_with_route = trips[trips.route_id == route_id]\n",
    "    stop_times_with_trips = stop_times[stop_times.trip_id.isin(trips_with_route.trip_id)]\n",
    "    stops_with_stop_times = stops[stops.stop_id.isin(stop_times_with_trips.stop_id)]\n",
    "    # print(stop_times_with_trips)\n",
    "    \n",
    "    return stops_with_stop_times\n",
    "\n",
    "get_stations(\"OCE1506035\")"
   ]
  },
  {
   "cell_type": "code",
   "execution_count": null,
   "metadata": {},
   "outputs": [],
   "source": []
  },
  {
   "cell_type": "code",
   "execution_count": null,
   "metadata": {},
   "outputs": [],
   "source": []
  },
  {
   "cell_type": "code",
   "execution_count": null,
   "metadata": {},
   "outputs": [],
   "source": []
  },
  {
   "cell_type": "code",
   "execution_count": null,
   "metadata": {},
   "outputs": [],
   "source": []
  }
 ],
 "metadata": {
  "interpreter": {
   "hash": "b17d7f78fb2f9e06d34c9e83e9ea991ed874ac5a2ce6642113047182b5845c21"
  },
  "kernelspec": {
   "display_name": "Python 3.7.9 64-bit ('3.7.9': pyenv)",
   "name": "python3"
  },
  "language_info": {
   "codemirror_mode": {
    "name": "ipython",
    "version": 3
   },
   "file_extension": ".py",
   "mimetype": "text/x-python",
   "name": "python",
   "nbconvert_exporter": "python",
   "pygments_lexer": "ipython3",
   "version": "3.7.9"
  },
  "orig_nbformat": 4
 },
 "nbformat": 4,
 "nbformat_minor": 2
}
